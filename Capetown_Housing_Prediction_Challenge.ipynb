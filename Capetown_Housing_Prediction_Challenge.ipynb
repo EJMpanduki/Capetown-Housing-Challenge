{
  "nbformat": 4,
  "nbformat_minor": 0,
  "metadata": {
    "colab": {
      "name": "Capetown Housing Prediction Challenge",
      "provenance": []
    },
    "kernelspec": {
      "name": "python3",
      "display_name": "Python 3"
    }
  },
  "cells": [
    {
      "cell_type": "markdown",
      "metadata": {
        "id": "4YJIJr0ATr1s",
        "colab_type": "text"
      },
      "source": [
        "# Capetown Housing Prediction Challenge"
      ]
    },
    {
      "cell_type": "code",
      "metadata": {
        "id": "2Rl7-AFPTvfQ",
        "colab_type": "code",
        "colab": {
          "base_uri": "https://localhost:8080/",
          "height": 34
        },
        "outputId": "9a47a9a6-c5eb-4c05-c74c-3a85527b5bb4"
      },
      "source": [
        "from google.colab import drive\n",
        "drive.mount('/content/drive')"
      ],
      "execution_count": 1,
      "outputs": [
        {
          "output_type": "stream",
          "text": [
            "Mounted at /content/drive\n"
          ],
          "name": "stdout"
        }
      ]
    },
    {
      "cell_type": "code",
      "metadata": {
        "id": "718ecmlZR09Y",
        "colab_type": "code",
        "colab": {
          "base_uri": "https://localhost:8080/",
          "height": 34
        },
        "outputId": "860e3c30-7ab1-43fd-d553-3932fbf6f163"
      },
      "source": [
        "#install  necessary packages\n",
        "# beautiful soup\n",
        "\n",
        "! pip install beautifulsoup4"
      ],
      "execution_count": 5,
      "outputs": [
        {
          "output_type": "stream",
          "text": [
            "Requirement already satisfied: beautifulsoup4 in /usr/local/lib/python3.6/dist-packages (4.6.3)\n"
          ],
          "name": "stdout"
        }
      ]
    },
    {
      "cell_type": "code",
      "metadata": {
        "id": "_v-ESi7UT-6T",
        "colab_type": "code",
        "colab": {
          "base_uri": "https://localhost:8080/",
          "height": 34
        },
        "outputId": "69b3136e-2209-4a65-cdaf-7a2d65351786"
      },
      "source": [
        "#install parser\n",
        "! pip install lxml"
      ],
      "execution_count": 6,
      "outputs": [
        {
          "output_type": "stream",
          "text": [
            "Requirement already satisfied: lxml in /usr/local/lib/python3.6/dist-packages (4.2.6)\n"
          ],
          "name": "stdout"
        }
      ]
    },
    {
      "cell_type": "code",
      "metadata": {
        "id": "5APME05PTxw7",
        "colab_type": "code",
        "colab": {
          "base_uri": "https://localhost:8080/",
          "height": 101
        },
        "outputId": "ce253e3a-3aab-43ee-8e3b-1368ee535bde"
      },
      "source": [
        "#install requests\n",
        "! pip install requests\n"
      ],
      "execution_count": 7,
      "outputs": [
        {
          "output_type": "stream",
          "text": [
            "Requirement already satisfied: requests in /usr/local/lib/python3.6/dist-packages (2.23.0)\n",
            "Requirement already satisfied: certifi>=2017.4.17 in /usr/local/lib/python3.6/dist-packages (from requests) (2020.6.20)\n",
            "Requirement already satisfied: idna<3,>=2.5 in /usr/local/lib/python3.6/dist-packages (from requests) (2.10)\n",
            "Requirement already satisfied: chardet<4,>=3.0.2 in /usr/local/lib/python3.6/dist-packages (from requests) (3.0.4)\n",
            "Requirement already satisfied: urllib3!=1.25.0,!=1.25.1,<1.26,>=1.21.1 in /usr/local/lib/python3.6/dist-packages (from requests) (1.24.3)\n"
          ],
          "name": "stdout"
        }
      ]
    },
    {
      "cell_type": "markdown",
      "metadata": {
        "id": "MjPwz_PBUDkR",
        "colab_type": "text"
      },
      "source": [
        "# Web Scraping\n",
        "Going to scrape the property 24 website for the necessary data to make predictions"
      ]
    },
    {
      "cell_type": "code",
      "metadata": {
        "id": "pdn42mzuT9qx",
        "colab_type": "code",
        "colab": {}
      },
      "source": [
        "# import packages\n",
        "\n",
        "from bs4 import BeautifulSoup\n",
        "import requests\n",
        "import csv"
      ],
      "execution_count": 10,
      "outputs": []
    },
    {
      "cell_type": "code",
      "metadata": {
        "id": "ZzqIEk2cWPf5",
        "colab_type": "code",
        "colab": {
          "base_uri": "https://localhost:8080/",
          "height": 34
        },
        "outputId": "1baac783-0432-4e3c-baaa-834107aa585b"
      },
      "source": [
        "!ls"
      ],
      "execution_count": 11,
      "outputs": [
        {
          "output_type": "stream",
          "text": [
            "drive  sample_data\n"
          ],
          "name": "stdout"
        }
      ]
    },
    {
      "cell_type": "code",
      "metadata": {
        "id": "OahALGMhUZh4",
        "colab_type": "code",
        "colab": {
          "base_uri": "https://localhost:8080/",
          "height": 34
        },
        "outputId": "4aae121d-cc80-4a9a-a0e1-eb0c345b050e"
      },
      "source": [
        "# Create the csv file to save to\n",
        "\n",
        "info_csv = open('cape_town_housing.csv', 'w')\n",
        "writer = csv.writer(info_csv)\n",
        "writer.writerow(['title', 'location', 'bedrooms', 'bathrooms', 'parking_spaces', 'floor_size', 'price'])"
      ],
      "execution_count": 13,
      "outputs": [
        {
          "output_type": "execute_result",
          "data": {
            "text/plain": [
              "67"
            ]
          },
          "metadata": {
            "tags": []
          },
          "execution_count": 13
        }
      ]
    },
    {
      "cell_type": "code",
      "metadata": {
        "id": "9mc3H_9pU-I8",
        "colab_type": "code",
        "colab": {}
      },
      "source": [
        "# scrape propert 24 \n",
        "\n",
        "for i, value in enumerate(list(range(1,397))):\n",
        "  url = 'https://www.property24.com/for-sale/cape-town/western-cape/432/p'+ str(value)+ '?PropertyCategory=House%2cApartmentOrFlat%2cTownhouse&sp=pt%3d1000000000000'\n",
        "  src = requests.get(url).text\n",
        "  page = BeautifulSoup(src, 'lxml')\n",
        "  info_box = page.find_all('div', {'class':\"p24_regularTile js_rollover_container \"}) \n",
        "\n",
        "  for value in info_box:\n",
        "    try:\n",
        "      price = value.find('span', {'class': \"p24_price\"}).text\n",
        "    except Exception as e:\n",
        "      price = None\n",
        "    try:\n",
        "      title = value.find('span', {'class': \"p24_title \"}).text\n",
        "    except:\n",
        "      title = None\n",
        "    try:\n",
        "      location = value.find('span', {'class': \"p24_location\"}).text\n",
        "    except:\n",
        "      location = None\n",
        "    try:\n",
        "      bedrooms = value.find('span', {'class': \"p24_featureDetails\", 'title':\"Bedrooms\"}).text\n",
        "    except:\n",
        "      bedrooms = None\n",
        "    try:\n",
        "      bathrooms = value.find('span', {'class': \"p24_featureDetails\", 'title':\"Bathrooms\"}).text\n",
        "    except:\n",
        "      bathrooms = None\n",
        "    try:\n",
        "      parking_spaces = value.find('span', {'class': \"p24_featureDetails\", 'title':\"Parking Spaces\"}).text\n",
        "    except Exception as e:\n",
        "      parking_spaces = None\n",
        "    try:\n",
        "      floor_size = value.find('span', {'class': \"p24_size\", 'title':\"Floor Size\"}).text\n",
        "    except:\n",
        "      floor_size = None\n",
        "\n",
        "    writer.writerow( [title, location, bedrooms, bathrooms, parking_spaces, floor_size,price])\n"
      ],
      "execution_count": 14,
      "outputs": []
    },
    {
      "cell_type": "code",
      "metadata": {
        "id": "DQZ6-cl3XDYV",
        "colab_type": "code",
        "colab": {}
      },
      "source": [
        "info_csv.close()"
      ],
      "execution_count": 15,
      "outputs": []
    },
    {
      "cell_type": "code",
      "metadata": {
        "id": "vz0c0hzaWb4n",
        "colab_type": "code",
        "colab": {}
      },
      "source": [
        "# Read the CSV into Pandas\n",
        "import pandas as pd\n",
        "capetown_data = pd.read_csv('cape_town_housing.csv')"
      ],
      "execution_count": 16,
      "outputs": []
    },
    {
      "cell_type": "code",
      "metadata": {
        "id": "jd0mShtZcCOL",
        "colab_type": "code",
        "colab": {
          "base_uri": "https://localhost:8080/",
          "height": 212
        },
        "outputId": "e5fe5277-4267-4efa-d8fe-68e8e2802775"
      },
      "source": [
        "#inspect to see if it worked\n",
        "print(capetown_data.shape)\n",
        "capetown_data.head()\n"
      ],
      "execution_count": 17,
      "outputs": [
        {
          "output_type": "stream",
          "text": [
            "(7885, 7)\n"
          ],
          "name": "stdout"
        },
        {
          "output_type": "execute_result",
          "data": {
            "text/html": [
              "<div>\n",
              "<style scoped>\n",
              "    .dataframe tbody tr th:only-of-type {\n",
              "        vertical-align: middle;\n",
              "    }\n",
              "\n",
              "    .dataframe tbody tr th {\n",
              "        vertical-align: top;\n",
              "    }\n",
              "\n",
              "    .dataframe thead th {\n",
              "        text-align: right;\n",
              "    }\n",
              "</style>\n",
              "<table border=\"1\" class=\"dataframe\">\n",
              "  <thead>\n",
              "    <tr style=\"text-align: right;\">\n",
              "      <th></th>\n",
              "      <th>title</th>\n",
              "      <th>location</th>\n",
              "      <th>bedrooms</th>\n",
              "      <th>bathrooms</th>\n",
              "      <th>parking_spaces</th>\n",
              "      <th>floor_size</th>\n",
              "      <th>price</th>\n",
              "    </tr>\n",
              "  </thead>\n",
              "  <tbody>\n",
              "    <tr>\n",
              "      <th>0</th>\n",
              "      <td>3 Bedroom House</td>\n",
              "      <td>Observatory</td>\n",
              "      <td>3.0</td>\n",
              "      <td>2.0</td>\n",
              "      <td>1.0</td>\n",
              "      <td>NaN</td>\n",
              "      <td>\\n\\r\\n            R 3 500 000\\r\\n</td>\n",
              "    </tr>\n",
              "    <tr>\n",
              "      <th>1</th>\n",
              "      <td>1 Bedroom Apartment</td>\n",
              "      <td>De Waterkant</td>\n",
              "      <td>1.0</td>\n",
              "      <td>1.0</td>\n",
              "      <td>NaN</td>\n",
              "      <td>\\n\\n66 m²\\n</td>\n",
              "      <td>\\n\\r\\n            R 3 500 000\\r\\n</td>\n",
              "    </tr>\n",
              "    <tr>\n",
              "      <th>2</th>\n",
              "      <td>House</td>\n",
              "      <td>Kirstenhof</td>\n",
              "      <td>NaN</td>\n",
              "      <td>NaN</td>\n",
              "      <td>NaN</td>\n",
              "      <td>NaN</td>\n",
              "      <td>\\n\\r\\n            R 1 895 000\\r\\n</td>\n",
              "    </tr>\n",
              "    <tr>\n",
              "      <th>3</th>\n",
              "      <td>4 Bedroom House</td>\n",
              "      <td>Kensington</td>\n",
              "      <td>4.0</td>\n",
              "      <td>1.0</td>\n",
              "      <td>6.0</td>\n",
              "      <td>NaN</td>\n",
              "      <td>\\n\\r\\n            R 995 000\\r\\n</td>\n",
              "    </tr>\n",
              "    <tr>\n",
              "      <th>4</th>\n",
              "      <td>House</td>\n",
              "      <td>Rondebosch East</td>\n",
              "      <td>NaN</td>\n",
              "      <td>NaN</td>\n",
              "      <td>NaN</td>\n",
              "      <td>NaN</td>\n",
              "      <td>\\r\\n            POA\\r\\n</td>\n",
              "    </tr>\n",
              "  </tbody>\n",
              "</table>\n",
              "</div>"
            ],
            "text/plain": [
              "                 title  ...                                      price\n",
              "0      3 Bedroom House  ...  \\n\\r\\n            R 3 500 000\\r\\n        \n",
              "1  1 Bedroom Apartment  ...  \\n\\r\\n            R 3 500 000\\r\\n        \n",
              "2                House  ...  \\n\\r\\n            R 1 895 000\\r\\n        \n",
              "3      4 Bedroom House  ...    \\n\\r\\n            R 995 000\\r\\n        \n",
              "4                House  ...            \\r\\n            POA\\r\\n        \n",
              "\n",
              "[5 rows x 7 columns]"
            ]
          },
          "metadata": {
            "tags": []
          },
          "execution_count": 17
        }
      ]
    },
    {
      "cell_type": "markdown",
      "metadata": {
        "id": "pn9ZR_FXaQ6X",
        "colab_type": "text"
      },
      "source": [
        "Looks like it worked we scraped 7885 records which will need some cleaning but first let's save to the drive"
      ]
    },
    {
      "cell_type": "code",
      "metadata": {
        "id": "EeQdU1gijoJQ",
        "colab_type": "code",
        "colab": {
          "base_uri": "https://localhost:8080/",
          "height": 34
        },
        "outputId": "fff446de-51d0-44e8-d812-58fa4d3d8867"
      },
      "source": [
        "#save df to drive\n",
        "!ls\n",
        "\n",
        "# capetown_data.to_csv('/drive/cape_town_housing.csv')"
      ],
      "execution_count": 24,
      "outputs": [
        {
          "output_type": "stream",
          "text": [
            "cape_town_housing.csv  drive  sample_data\n"
          ],
          "name": "stdout"
        }
      ]
    },
    {
      "cell_type": "code",
      "metadata": {
        "id": "uug4LsyUUhCR",
        "colab_type": "code",
        "colab": {}
      },
      "source": [
        "# Clean Up Pricing Column\n",
        "\n",
        "capetown_data['price'] =capetown_data['price'].str.replace('\\n','').str.replace('\\r','').str.strip().str.replace('R','').str.replace('  ','').str.replace(' ','').str.replace(' ','')"
      ],
      "execution_count": 41,
      "outputs": []
    },
    {
      "cell_type": "code",
      "metadata": {
        "id": "ttYxeum9Ud84",
        "colab_type": "code",
        "colab": {}
      },
      "source": [
        "capetown_data['price'] = capetown_data['price'].str.replace('\\\\xa0','')\n",
        "\n",
        "  "
      ],
      "execution_count": 47,
      "outputs": []
    },
    {
      "cell_type": "markdown",
      "metadata": {
        "id": "kuX4Iq3Efs3u",
        "colab_type": "text"
      },
      "source": [
        "Some values in the price column are POA, which means property on auction and we cannot use these so we will drop these from the data set "
      ]
    },
    {
      "cell_type": "code",
      "metadata": {
        "id": "TT0YXYw7Wewq",
        "colab_type": "code",
        "colab": {
          "base_uri": "https://localhost:8080/",
          "height": 34
        },
        "outputId": "ba9deefe-3178-409b-c16a-dd2ce41a2817"
      },
      "source": [
        "capetown_data_1 = capetown_data[capetown_data['price'] != 'POA']\n",
        "capetown_data_1.shape"
      ],
      "execution_count": 51,
      "outputs": [
        {
          "output_type": "execute_result",
          "data": {
            "text/plain": [
              "(7850, 7)"
            ]
          },
          "metadata": {
            "tags": []
          },
          "execution_count": 51
        }
      ]
    },
    {
      "cell_type": "markdown",
      "metadata": {
        "id": "gAoA-5THgFpI",
        "colab_type": "text"
      },
      "source": [
        "This leaves us with 7850 rows"
      ]
    },
    {
      "cell_type": "code",
      "metadata": {
        "id": "N_WQ1g5GWjNC",
        "colab_type": "code",
        "colab": {
          "base_uri": "https://localhost:8080/",
          "height": 118
        },
        "outputId": "3364d9e8-8321-4c90-97e4-158f0d46d341"
      },
      "source": [
        "#convert to price column to integers\n",
        "\n",
        "capetown_data_1['price'] =capetown_data_1['price'].astype('int')"
      ],
      "execution_count": 54,
      "outputs": [
        {
          "output_type": "stream",
          "text": [
            "/usr/local/lib/python3.6/dist-packages/ipykernel_launcher.py:3: SettingWithCopyWarning: \n",
            "A value is trying to be set on a copy of a slice from a DataFrame.\n",
            "Try using .loc[row_indexer,col_indexer] = value instead\n",
            "\n",
            "See the caveats in the documentation: https://pandas.pydata.org/pandas-docs/stable/user_guide/indexing.html#returning-a-view-versus-a-copy\n",
            "  This is separate from the ipykernel package so we can avoid doing imports until\n"
          ],
          "name": "stderr"
        }
      ]
    },
    {
      "cell_type": "code",
      "metadata": {
        "id": "nYkbrm08i8es",
        "colab_type": "code",
        "colab": {
          "base_uri": "https://localhost:8080/",
          "height": 35
        },
        "outputId": "fff06796-4a16-441b-ff29-8706943029b0"
      },
      "source": [
        "superscripts =  \"[\\u2070\\u00b9\\u00b2\\u00b3\\u2074\\u2075\\u2076\\u2077\\u2078\\u2079]\"\n",
        "superscripts"
      ],
      "execution_count": 63,
      "outputs": [
        {
          "output_type": "execute_result",
          "data": {
            "application/vnd.google.colaboratory.intrinsic+json": {
              "type": "string"
            },
            "text/plain": [
              "'[⁰¹²³⁴⁵⁶⁷⁸⁹]'"
            ]
          },
          "metadata": {
            "tags": []
          },
          "execution_count": 63
        }
      ]
    },
    {
      "cell_type": "code",
      "metadata": {
        "id": "5NKxf9yMY90Z",
        "colab_type": "code",
        "colab": {}
      },
      "source": [
        "#Cleaning the floor size column\n",
        "\n",
        "floor_size = capetown_data_1['floor_size'].str.replace('\\n', '').str.replace(' ','').str.strip().str.replace(superscripts,'').str.replace('m','')\n",
        "floor_size = floor_size.astype(float, errors= 'ignore')"
      ],
      "execution_count": 72,
      "outputs": []
    },
    {
      "cell_type": "code",
      "metadata": {
        "id": "3of-G7bKW0Y2",
        "colab_type": "code",
        "colab": {
          "base_uri": "https://localhost:8080/",
          "height": 118
        },
        "outputId": "0e265013-11b8-40c8-ec8a-e7fcdf0a5819"
      },
      "source": [
        "capetown_data_1['floor_size'] = floor_size\n"
      ],
      "execution_count": 73,
      "outputs": [
        {
          "output_type": "stream",
          "text": [
            "/usr/local/lib/python3.6/dist-packages/ipykernel_launcher.py:1: SettingWithCopyWarning: \n",
            "A value is trying to be set on a copy of a slice from a DataFrame.\n",
            "Try using .loc[row_indexer,col_indexer] = value instead\n",
            "\n",
            "See the caveats in the documentation: https://pandas.pydata.org/pandas-docs/stable/user_guide/indexing.html#returning-a-view-versus-a-copy\n",
            "  \"\"\"Entry point for launching an IPython kernel.\n"
          ],
          "name": "stderr"
        }
      ]
    },
    {
      "cell_type": "code",
      "metadata": {
        "id": "0zU2ofI-a47v",
        "colab_type": "code",
        "colab": {
          "base_uri": "https://localhost:8080/",
          "height": 151
        },
        "outputId": "2cdf9f7c-30e6-4d4b-8de6-665a7044b663"
      },
      "source": [
        "capetown_data_1.dtypes"
      ],
      "execution_count": 74,
      "outputs": [
        {
          "output_type": "execute_result",
          "data": {
            "text/plain": [
              "title              object\n",
              "location           object\n",
              "bedrooms          float64\n",
              "bathrooms         float64\n",
              "parking_spaces    float64\n",
              "floor_size        float64\n",
              "price               int64\n",
              "dtype: object"
            ]
          },
          "metadata": {
            "tags": []
          },
          "execution_count": 74
        }
      ]
    },
    {
      "cell_type": "code",
      "metadata": {
        "id": "uMDG_8DNbC_p",
        "colab_type": "code",
        "colab": {
          "base_uri": "https://localhost:8080/",
          "height": 195
        },
        "outputId": "8397c2a0-5222-484a-c682-e4f99d166270"
      },
      "source": [
        "capetown_data_1.head()"
      ],
      "execution_count": 75,
      "outputs": [
        {
          "output_type": "execute_result",
          "data": {
            "text/html": [
              "<div>\n",
              "<style scoped>\n",
              "    .dataframe tbody tr th:only-of-type {\n",
              "        vertical-align: middle;\n",
              "    }\n",
              "\n",
              "    .dataframe tbody tr th {\n",
              "        vertical-align: top;\n",
              "    }\n",
              "\n",
              "    .dataframe thead th {\n",
              "        text-align: right;\n",
              "    }\n",
              "</style>\n",
              "<table border=\"1\" class=\"dataframe\">\n",
              "  <thead>\n",
              "    <tr style=\"text-align: right;\">\n",
              "      <th></th>\n",
              "      <th>title</th>\n",
              "      <th>location</th>\n",
              "      <th>bedrooms</th>\n",
              "      <th>bathrooms</th>\n",
              "      <th>parking_spaces</th>\n",
              "      <th>floor_size</th>\n",
              "      <th>price</th>\n",
              "    </tr>\n",
              "  </thead>\n",
              "  <tbody>\n",
              "    <tr>\n",
              "      <th>0</th>\n",
              "      <td>3 Bedroom House</td>\n",
              "      <td>Observatory</td>\n",
              "      <td>3.0</td>\n",
              "      <td>2.0</td>\n",
              "      <td>1.0</td>\n",
              "      <td>NaN</td>\n",
              "      <td>3500000</td>\n",
              "    </tr>\n",
              "    <tr>\n",
              "      <th>1</th>\n",
              "      <td>1 Bedroom Apartment</td>\n",
              "      <td>De Waterkant</td>\n",
              "      <td>1.0</td>\n",
              "      <td>1.0</td>\n",
              "      <td>NaN</td>\n",
              "      <td>66.0</td>\n",
              "      <td>3500000</td>\n",
              "    </tr>\n",
              "    <tr>\n",
              "      <th>2</th>\n",
              "      <td>House</td>\n",
              "      <td>Kirstenhof</td>\n",
              "      <td>NaN</td>\n",
              "      <td>NaN</td>\n",
              "      <td>NaN</td>\n",
              "      <td>NaN</td>\n",
              "      <td>1895000</td>\n",
              "    </tr>\n",
              "    <tr>\n",
              "      <th>3</th>\n",
              "      <td>4 Bedroom House</td>\n",
              "      <td>Kensington</td>\n",
              "      <td>4.0</td>\n",
              "      <td>1.0</td>\n",
              "      <td>6.0</td>\n",
              "      <td>NaN</td>\n",
              "      <td>995000</td>\n",
              "    </tr>\n",
              "    <tr>\n",
              "      <th>5</th>\n",
              "      <td>2 Bedroom House</td>\n",
              "      <td>Claremont</td>\n",
              "      <td>2.0</td>\n",
              "      <td>1.0</td>\n",
              "      <td>NaN</td>\n",
              "      <td>NaN</td>\n",
              "      <td>2395000</td>\n",
              "    </tr>\n",
              "  </tbody>\n",
              "</table>\n",
              "</div>"
            ],
            "text/plain": [
              "                 title      location  ...  floor_size    price\n",
              "0      3 Bedroom House   Observatory  ...         NaN  3500000\n",
              "1  1 Bedroom Apartment  De Waterkant  ...        66.0  3500000\n",
              "2                House    Kirstenhof  ...         NaN  1895000\n",
              "3      4 Bedroom House    Kensington  ...         NaN   995000\n",
              "5      2 Bedroom House     Claremont  ...         NaN  2395000\n",
              "\n",
              "[5 rows x 7 columns]"
            ]
          },
          "metadata": {
            "tags": []
          },
          "execution_count": 75
        }
      ]
    },
    {
      "cell_type": "code",
      "metadata": {
        "id": "24iFB64xrSmK",
        "colab_type": "code",
        "colab": {
          "base_uri": "https://localhost:8080/",
          "height": 874
        },
        "outputId": "f9894aaa-87bc-41db-eae9-b40ea41f48dc"
      },
      "source": [
        "capetown_data_1.title.value_counts(dropna=False)"
      ],
      "execution_count": 76,
      "outputs": [
        {
          "output_type": "execute_result",
          "data": {
            "text/plain": [
              "2 Bedroom Apartment      2112\n",
              "1 Bedroom Apartment      1430\n",
              "3 Bedroom House          1056\n",
              "4 Bedroom House           815\n",
              "3 Bedroom Apartment       535\n",
              "2 Bedroom House           369\n",
              "5 Bedroom House           363\n",
              "0.5 Bedroom Apartment     208\n",
              "Apartment                 196\n",
              "6 Bedroom House           159\n",
              "3 Bedroom Townhouse       151\n",
              "2 Bedroom Townhouse        97\n",
              "4 Bedroom Apartment        81\n",
              "7 Bedroom House            56\n",
              "House                      36\n",
              "1 Bedroom House            33\n",
              "8 Bedroom House            28\n",
              "9 Bedroom House            24\n",
              "4 Bedroom Townhouse        22\n",
              "10 Bedroom House            7\n",
              "1.5 Bedroom Apartment       6\n",
              "2.5 Bedroom Apartment       6\n",
              "11 Bedroom House            6\n",
              "12 Bedroom House            5\n",
              "5 Bedroom Apartment         5\n",
              "Townhouse                   4\n",
              "6 Bedroom Apartment         4\n",
              "13 Bedroom House            4\n",
              "2.5 Bedroom House           3\n",
              "5 Bedroom Townhouse         3\n",
              "15 Bedroom House            2\n",
              "1 Bedroom Townhouse         2\n",
              "3.5 Bedroom Apartment       2\n",
              "16 Bedroom House            2\n",
              "12 Bedroom Townhouse        2\n",
              "14 Bedroom House            2\n",
              "8 Bedroom Townhouse         1\n",
              "0.5 Bedroom House           1\n",
              "6 Bedroom Townhouse         1\n",
              "3.5 Bedroom House           1\n",
              "12 Bedroom Apartment        1\n",
              "1.5 Bedroom House           1\n",
              "30 Bedroom House            1\n",
              "18 Bedroom House            1\n",
              "33 Bedroom House            1\n",
              "3.5 Bedroom Townhouse       1\n",
              "10 Bedroom Townhouse        1\n",
              "8 Bedroom Apartment         1\n",
              "15 Bedroom Apartment        1\n",
              "4.5 Bedroom House           1\n",
              "Name: title, dtype: int64"
            ]
          },
          "metadata": {
            "tags": []
          },
          "execution_count": 76
        }
      ]
    },
    {
      "cell_type": "markdown",
      "metadata": {
        "id": "qLe9u7RGlz8N",
        "colab_type": "text"
      },
      "source": [
        "As we can see above the title column contains the words House, Townhouse or Apartment so we will convert this to those respective types of property"
      ]
    },
    {
      "cell_type": "code",
      "metadata": {
        "id": "TDquM_QKmGrg",
        "colab_type": "code",
        "colab": {}
      },
      "source": [
        "def convert_type(title_name):\n",
        "  if 'Apartment' in title_name:\n",
        "    return 'Apartment'\n",
        "  if 'Townhouse'in title_name:\n",
        "    return 'Townhouse'\n",
        "  if 'House' in title_name:\n",
        "    return 'House'\n",
        "  return title_name\n",
        "\n",
        "property_type = capetown_data_1['title'].apply(convert_type)"
      ],
      "execution_count": 78,
      "outputs": []
    },
    {
      "cell_type": "code",
      "metadata": {
        "id": "hGUvedBKm337",
        "colab_type": "code",
        "colab": {
          "base_uri": "https://localhost:8080/",
          "height": 118
        },
        "outputId": "e92f9b8b-755f-46cf-8833-bf9ec389a023"
      },
      "source": [
        "capetown_data_1['property_type'] = property_type"
      ],
      "execution_count": 80,
      "outputs": [
        {
          "output_type": "stream",
          "text": [
            "/usr/local/lib/python3.6/dist-packages/ipykernel_launcher.py:1: SettingWithCopyWarning: \n",
            "A value is trying to be set on a copy of a slice from a DataFrame.\n",
            "Try using .loc[row_indexer,col_indexer] = value instead\n",
            "\n",
            "See the caveats in the documentation: https://pandas.pydata.org/pandas-docs/stable/user_guide/indexing.html#returning-a-view-versus-a-copy\n",
            "  \"\"\"Entry point for launching an IPython kernel.\n"
          ],
          "name": "stderr"
        }
      ]
    },
    {
      "cell_type": "code",
      "metadata": {
        "id": "xnT90LlSepQD",
        "colab_type": "code",
        "colab": {
          "base_uri": "https://localhost:8080/",
          "height": 269
        },
        "outputId": "9e39dd99-c5b6-4ecf-dd23-3e5cd2bb9440"
      },
      "source": [
        "capetown_data_1.info()"
      ],
      "execution_count": 82,
      "outputs": [
        {
          "output_type": "stream",
          "text": [
            "<class 'pandas.core.frame.DataFrame'>\n",
            "Int64Index: 7850 entries, 0 to 7884\n",
            "Data columns (total 8 columns):\n",
            " #   Column          Non-Null Count  Dtype  \n",
            "---  ------          --------------  -----  \n",
            " 0   title           7850 non-null   object \n",
            " 1   location        7850 non-null   object \n",
            " 2   bedrooms        7614 non-null   float64\n",
            " 3   bathrooms       7754 non-null   float64\n",
            " 4   parking_spaces  6358 non-null   float64\n",
            " 5   floor_size      4441 non-null   float64\n",
            " 6   price           7850 non-null   int64  \n",
            " 7   property_type   7850 non-null   object \n",
            "dtypes: float64(4), int64(1), object(3)\n",
            "memory usage: 872.0+ KB\n"
          ],
          "name": "stdout"
        }
      ]
    },
    {
      "cell_type": "markdown",
      "metadata": {
        "id": "czAyQcCFnh5y",
        "colab_type": "text"
      },
      "source": [
        "After some basic cleaning we can see that we have some null values in the bedrooms, bathrooms, parking_spaces and floor_size columns. floor_size has the most missing values with nearly 45% of the values missing so our imputation strategy here will be very critcal in coming up with an accurate model"
      ]
    },
    {
      "cell_type": "markdown",
      "metadata": {
        "id": "T1OyXA-PolQO",
        "colab_type": "text"
      },
      "source": [
        "# Modeling"
      ]
    },
    {
      "cell_type": "code",
      "metadata": {
        "id": "C35K9A25f9Nj",
        "colab_type": "code",
        "colab": {
          "base_uri": "https://localhost:8080/",
          "height": 195
        },
        "outputId": "f09a4e8b-25c9-4cb6-d95a-25902c455914"
      },
      "source": [
        "capetown_data_1.head()"
      ],
      "execution_count": 83,
      "outputs": [
        {
          "output_type": "execute_result",
          "data": {
            "text/html": [
              "<div>\n",
              "<style scoped>\n",
              "    .dataframe tbody tr th:only-of-type {\n",
              "        vertical-align: middle;\n",
              "    }\n",
              "\n",
              "    .dataframe tbody tr th {\n",
              "        vertical-align: top;\n",
              "    }\n",
              "\n",
              "    .dataframe thead th {\n",
              "        text-align: right;\n",
              "    }\n",
              "</style>\n",
              "<table border=\"1\" class=\"dataframe\">\n",
              "  <thead>\n",
              "    <tr style=\"text-align: right;\">\n",
              "      <th></th>\n",
              "      <th>title</th>\n",
              "      <th>location</th>\n",
              "      <th>bedrooms</th>\n",
              "      <th>bathrooms</th>\n",
              "      <th>parking_spaces</th>\n",
              "      <th>floor_size</th>\n",
              "      <th>price</th>\n",
              "      <th>property_type</th>\n",
              "    </tr>\n",
              "  </thead>\n",
              "  <tbody>\n",
              "    <tr>\n",
              "      <th>0</th>\n",
              "      <td>3 Bedroom House</td>\n",
              "      <td>Observatory</td>\n",
              "      <td>3.0</td>\n",
              "      <td>2.0</td>\n",
              "      <td>1.0</td>\n",
              "      <td>NaN</td>\n",
              "      <td>3500000</td>\n",
              "      <td>House</td>\n",
              "    </tr>\n",
              "    <tr>\n",
              "      <th>1</th>\n",
              "      <td>1 Bedroom Apartment</td>\n",
              "      <td>De Waterkant</td>\n",
              "      <td>1.0</td>\n",
              "      <td>1.0</td>\n",
              "      <td>NaN</td>\n",
              "      <td>66.0</td>\n",
              "      <td>3500000</td>\n",
              "      <td>Apartment</td>\n",
              "    </tr>\n",
              "    <tr>\n",
              "      <th>2</th>\n",
              "      <td>House</td>\n",
              "      <td>Kirstenhof</td>\n",
              "      <td>NaN</td>\n",
              "      <td>NaN</td>\n",
              "      <td>NaN</td>\n",
              "      <td>NaN</td>\n",
              "      <td>1895000</td>\n",
              "      <td>House</td>\n",
              "    </tr>\n",
              "    <tr>\n",
              "      <th>3</th>\n",
              "      <td>4 Bedroom House</td>\n",
              "      <td>Kensington</td>\n",
              "      <td>4.0</td>\n",
              "      <td>1.0</td>\n",
              "      <td>6.0</td>\n",
              "      <td>NaN</td>\n",
              "      <td>995000</td>\n",
              "      <td>House</td>\n",
              "    </tr>\n",
              "    <tr>\n",
              "      <th>5</th>\n",
              "      <td>2 Bedroom House</td>\n",
              "      <td>Claremont</td>\n",
              "      <td>2.0</td>\n",
              "      <td>1.0</td>\n",
              "      <td>NaN</td>\n",
              "      <td>NaN</td>\n",
              "      <td>2395000</td>\n",
              "      <td>House</td>\n",
              "    </tr>\n",
              "  </tbody>\n",
              "</table>\n",
              "</div>"
            ],
            "text/plain": [
              "                 title      location  ...    price  property_type\n",
              "0      3 Bedroom House   Observatory  ...  3500000          House\n",
              "1  1 Bedroom Apartment  De Waterkant  ...  3500000      Apartment\n",
              "2                House    Kirstenhof  ...  1895000          House\n",
              "3      4 Bedroom House    Kensington  ...   995000          House\n",
              "5      2 Bedroom House     Claremont  ...  2395000          House\n",
              "\n",
              "[5 rows x 8 columns]"
            ]
          },
          "metadata": {
            "tags": []
          },
          "execution_count": 83
        }
      ]
    },
    {
      "cell_type": "markdown",
      "metadata": {
        "id": "w-kG6zjApHZF",
        "colab_type": "text"
      },
      "source": [
        "We will be dropping the title column from our data set as we have extracted the property type from it"
      ]
    },
    {
      "cell_type": "code",
      "metadata": {
        "id": "maCY-7i4Fyzk",
        "colab_type": "code",
        "colab": {
          "base_uri": "https://localhost:8080/",
          "height": 195
        },
        "outputId": "afe36f5b-20aa-4104-bad3-2abd3ee7851d"
      },
      "source": [
        "full_data = capetown_data_1.drop('title', axis=1)\n",
        "full_data.head()"
      ],
      "execution_count": 84,
      "outputs": [
        {
          "output_type": "execute_result",
          "data": {
            "text/html": [
              "<div>\n",
              "<style scoped>\n",
              "    .dataframe tbody tr th:only-of-type {\n",
              "        vertical-align: middle;\n",
              "    }\n",
              "\n",
              "    .dataframe tbody tr th {\n",
              "        vertical-align: top;\n",
              "    }\n",
              "\n",
              "    .dataframe thead th {\n",
              "        text-align: right;\n",
              "    }\n",
              "</style>\n",
              "<table border=\"1\" class=\"dataframe\">\n",
              "  <thead>\n",
              "    <tr style=\"text-align: right;\">\n",
              "      <th></th>\n",
              "      <th>location</th>\n",
              "      <th>bedrooms</th>\n",
              "      <th>bathrooms</th>\n",
              "      <th>parking_spaces</th>\n",
              "      <th>floor_size</th>\n",
              "      <th>price</th>\n",
              "      <th>property_type</th>\n",
              "    </tr>\n",
              "  </thead>\n",
              "  <tbody>\n",
              "    <tr>\n",
              "      <th>0</th>\n",
              "      <td>Observatory</td>\n",
              "      <td>3.0</td>\n",
              "      <td>2.0</td>\n",
              "      <td>1.0</td>\n",
              "      <td>NaN</td>\n",
              "      <td>3500000</td>\n",
              "      <td>House</td>\n",
              "    </tr>\n",
              "    <tr>\n",
              "      <th>1</th>\n",
              "      <td>De Waterkant</td>\n",
              "      <td>1.0</td>\n",
              "      <td>1.0</td>\n",
              "      <td>NaN</td>\n",
              "      <td>66.0</td>\n",
              "      <td>3500000</td>\n",
              "      <td>Apartment</td>\n",
              "    </tr>\n",
              "    <tr>\n",
              "      <th>2</th>\n",
              "      <td>Kirstenhof</td>\n",
              "      <td>NaN</td>\n",
              "      <td>NaN</td>\n",
              "      <td>NaN</td>\n",
              "      <td>NaN</td>\n",
              "      <td>1895000</td>\n",
              "      <td>House</td>\n",
              "    </tr>\n",
              "    <tr>\n",
              "      <th>3</th>\n",
              "      <td>Kensington</td>\n",
              "      <td>4.0</td>\n",
              "      <td>1.0</td>\n",
              "      <td>6.0</td>\n",
              "      <td>NaN</td>\n",
              "      <td>995000</td>\n",
              "      <td>House</td>\n",
              "    </tr>\n",
              "    <tr>\n",
              "      <th>5</th>\n",
              "      <td>Claremont</td>\n",
              "      <td>2.0</td>\n",
              "      <td>1.0</td>\n",
              "      <td>NaN</td>\n",
              "      <td>NaN</td>\n",
              "      <td>2395000</td>\n",
              "      <td>House</td>\n",
              "    </tr>\n",
              "  </tbody>\n",
              "</table>\n",
              "</div>"
            ],
            "text/plain": [
              "       location  bedrooms  bathrooms  ...  floor_size    price  property_type\n",
              "0   Observatory       3.0        2.0  ...         NaN  3500000          House\n",
              "1  De Waterkant       1.0        1.0  ...        66.0  3500000      Apartment\n",
              "2    Kirstenhof       NaN        NaN  ...         NaN  1895000          House\n",
              "3    Kensington       4.0        1.0  ...         NaN   995000          House\n",
              "5     Claremont       2.0        1.0  ...         NaN  2395000          House\n",
              "\n",
              "[5 rows x 7 columns]"
            ]
          },
          "metadata": {
            "tags": []
          },
          "execution_count": 84
        }
      ]
    },
    {
      "cell_type": "code",
      "metadata": {
        "id": "n8KXjRbIqatC",
        "colab_type": "code",
        "colab": {}
      },
      "source": [
        "#Break Off X and y\n",
        "X= full_data.drop('price', axis = 1)\n",
        "y =full_data['price']"
      ],
      "execution_count": 86,
      "outputs": []
    },
    {
      "cell_type": "code",
      "metadata": {
        "id": "cvfW1Q3nKD94",
        "colab_type": "code",
        "colab": {}
      },
      "source": [
        "# One Hot Encode X categorical variables\n",
        "\n",
        "X_full = pd.get_dummies(X)\n"
      ],
      "execution_count": 87,
      "outputs": []
    },
    {
      "cell_type": "markdown",
      "metadata": {
        "id": "RWhp_Pm_r7Mi",
        "colab_type": "text"
      },
      "source": [
        "### Comparing Different Imputation Strategies Using Random Forrest Regressor"
      ]
    },
    {
      "cell_type": "code",
      "metadata": {
        "id": "oVT9NLLtoyWc",
        "colab_type": "code",
        "colab": {}
      },
      "source": [
        "from sklearn.ensemble import RandomForestRegressor\n",
        "from sklearn.metrics import mean_absolute_error\n",
        "\n",
        "# Function for comparing different approaches\n",
        "def score_dataset(X_train, X_valid, y_train, y_valid):\n",
        "    model = RandomForestRegressor(n_estimators=100, random_state=0)\n",
        "    model.fit(X_train, y_train)\n",
        "    preds = model.predict(X_valid)\n",
        "    return mean_absolute_error(y_valid, preds)"
      ],
      "execution_count": 88,
      "outputs": []
    },
    {
      "cell_type": "code",
      "metadata": {
        "id": "SWzBXH-RsJht",
        "colab_type": "code",
        "colab": {}
      },
      "source": [
        "# Splitting the data into train and validation sets\n",
        "\n",
        "from sklearn.model_selection import train_test_split\n",
        "\n",
        "X_train, X_valid, y_train, y_valid = train_test_split(X_full, y, train_size=0.8, test_size=0.2,\n",
        "                                                      random_state=0)"
      ],
      "execution_count": 89,
      "outputs": []
    },
    {
      "cell_type": "markdown",
      "metadata": {
        "id": "IwkFZLp8skMz",
        "colab_type": "text"
      },
      "source": [
        "###### Testing for dropping all row with null values from the dataset"
      ]
    },
    {
      "cell_type": "code",
      "metadata": {
        "id": "snNVkjtFsh-w",
        "colab_type": "code",
        "colab": {}
      },
      "source": [
        "# get names of columns with missing values\n",
        "cols_with_missing = [col for col in X_train.columns\n",
        "                    if X_train[col].isnull().any()] \n",
        "\n",
        "# drop columns in training and validation data\n",
        "reduced_X_train = X_train.drop(cols_with_missing, axis = 1)\n",
        "reduced_X_valid = X_valid.drop(cols_with_missing, axis = 1)"
      ],
      "execution_count": 90,
      "outputs": []
    },
    {
      "cell_type": "code",
      "metadata": {
        "id": "ZPAkQcJws9G3",
        "colab_type": "code",
        "colab": {
          "base_uri": "https://localhost:8080/",
          "height": 50
        },
        "outputId": "9f4ace6a-4e25-448d-e8de-8d1d718dcbd6"
      },
      "source": [
        "print(\"MAE (Drop columns with missing values):\")\n",
        "print(score_dataset(reduced_X_train, reduced_X_valid, y_train, y_valid))"
      ],
      "execution_count": 91,
      "outputs": [
        {
          "output_type": "stream",
          "text": [
            "MAE (Drop columns with missing values):\n",
            "2777949.4160192064\n"
          ],
          "name": "stdout"
        }
      ]
    },
    {
      "cell_type": "markdown",
      "metadata": {
        "id": "jXbonYEGtJGB",
        "colab_type": "text"
      },
      "source": [
        "###### Testing for Mean Value Imputation for missing columns\n",
        "\n"
      ]
    },
    {
      "cell_type": "code",
      "metadata": {
        "id": "PvmFRqietdtG",
        "colab_type": "code",
        "colab": {}
      },
      "source": [
        "from sklearn.impute import SimpleImputer\n",
        "\n",
        "# imputation\n",
        "imputer = SimpleImputer()\n",
        "imputed_X_train = pd.DataFrame(imputer.fit_transform(X_train))\n",
        "imputed_X_valid = pd.DataFrame(imputer.transform(X_valid))\n",
        "\n",
        "# imputation removed column names putting them back\n",
        "imputed_X_train.columns = X_train.columns\n",
        "imputed_X_valid.columns = X_valid.columns"
      ],
      "execution_count": 92,
      "outputs": []
    },
    {
      "cell_type": "code",
      "metadata": {
        "id": "7DQW4i16tsmD",
        "colab_type": "code",
        "colab": {
          "base_uri": "https://localhost:8080/",
          "height": 50
        },
        "outputId": "630c7220-62b3-469d-d586-8e7ff13caea7"
      },
      "source": [
        "print(\"MAE Mean value Imputation):\")\n",
        "print(score_dataset(imputed_X_train, imputed_X_valid, y_train, y_valid))"
      ],
      "execution_count": 94,
      "outputs": [
        {
          "output_type": "stream",
          "text": [
            "MAE Mean value Imputation):\n",
            "1717188.00888379\n"
          ],
          "name": "stdout"
        }
      ]
    },
    {
      "cell_type": "markdown",
      "metadata": {
        "id": "WYXj0fsHt6WQ",
        "colab_type": "text"
      },
      "source": [
        "###### Testing for Modal Value Imputation for missing columns"
      ]
    },
    {
      "cell_type": "code",
      "metadata": {
        "id": "oSefOlcFuCwZ",
        "colab_type": "code",
        "colab": {}
      },
      "source": [
        "# imputation\n",
        "imputer = SimpleImputer(strategy= 'most_frequent')\n",
        "imputed_X_train = pd.DataFrame(imputer.fit_transform(X_train))\n",
        "imputed_X_valid = pd.DataFrame(imputer.transform(X_valid))\n",
        "\n",
        "# imputation removed column names putting them back\n",
        "imputed_X_train.columns = X_train.columns\n",
        "imputed_X_valid.columns = X_valid.columns"
      ],
      "execution_count": 96,
      "outputs": []
    },
    {
      "cell_type": "code",
      "metadata": {
        "id": "bGD7-6_guao-",
        "colab_type": "code",
        "colab": {
          "base_uri": "https://localhost:8080/",
          "height": 50
        },
        "outputId": "136acc8b-3ab8-4295-be88-93de6d5cd4b3"
      },
      "source": [
        "print(\"MAE Most Frequent value Imputation:\")\n",
        "print(score_dataset(imputed_X_train, imputed_X_valid, y_train, y_valid))"
      ],
      "execution_count": 97,
      "outputs": [
        {
          "output_type": "stream",
          "text": [
            "MAE Most Frequent value Imputation:\n",
            "1757090.2026886295\n"
          ],
          "name": "stdout"
        }
      ]
    },
    {
      "cell_type": "markdown",
      "metadata": {
        "id": "-liXyeHDupAZ",
        "colab_type": "text"
      },
      "source": [
        "It appears that the best method of imputation for our dataset as a whole is mean value imputation"
      ]
    },
    {
      "cell_type": "code",
      "metadata": {
        "id": "n_A4nPNmujHb",
        "colab_type": "code",
        "colab": {}
      },
      "source": [
        ""
      ],
      "execution_count": null,
      "outputs": []
    },
    {
      "cell_type": "markdown",
      "metadata": {
        "id": "ryvKoIz9dgEQ",
        "colab_type": "text"
      },
      "source": [
        "# Trying Different Models\n",
        "\n",
        "#### XGBoostRegressor"
      ]
    },
    {
      "cell_type": "code",
      "metadata": {
        "id": "ttgUtZayno_X",
        "colab_type": "code",
        "colab": {}
      },
      "source": [
        "# Rerun Mean Imputation\n",
        "\n",
        "# imputation\n",
        "imputer = SimpleImputer()\n",
        "imputed_X_train = pd.DataFrame(imputer.fit_transform(X_train))\n",
        "imputed_X_valid = pd.DataFrame(imputer.transform(X_valid))\n",
        "\n",
        "# imputation removed column names putting them back\n",
        "imputed_X_train.columns = X_train.columns\n",
        "imputed_X_valid.columns = X_valid.columns"
      ],
      "execution_count": 99,
      "outputs": []
    },
    {
      "cell_type": "code",
      "metadata": {
        "id": "002-j7jfF-m1",
        "colab_type": "code",
        "colab": {
          "base_uri": "https://localhost:8080/",
          "height": 151
        },
        "outputId": "cde83b9f-64aa-4d69-bc53-5db26cdef486"
      },
      "source": [
        "from xgboost import XGBRegressor\n",
        "\n",
        "# Define the model\n",
        "my_model_1 = XGBRegressor() \n",
        "\n",
        "# Fit the model\n",
        "my_model_1.fit(imputed_X_train, y_train) "
      ],
      "execution_count": 100,
      "outputs": [
        {
          "output_type": "stream",
          "text": [
            "[05:31:52] WARNING: /workspace/src/objective/regression_obj.cu:152: reg:linear is now deprecated in favor of reg:squarederror.\n"
          ],
          "name": "stdout"
        },
        {
          "output_type": "execute_result",
          "data": {
            "text/plain": [
              "XGBRegressor(base_score=0.5, booster='gbtree', colsample_bylevel=1,\n",
              "             colsample_bynode=1, colsample_bytree=1, gamma=0,\n",
              "             importance_type='gain', learning_rate=0.1, max_delta_step=0,\n",
              "             max_depth=3, min_child_weight=1, missing=None, n_estimators=100,\n",
              "             n_jobs=1, nthread=None, objective='reg:linear', random_state=0,\n",
              "             reg_alpha=0, reg_lambda=1, scale_pos_weight=1, seed=None,\n",
              "             silent=None, subsample=1, verbosity=1)"
            ]
          },
          "metadata": {
            "tags": []
          },
          "execution_count": 100
        }
      ]
    },
    {
      "cell_type": "code",
      "metadata": {
        "id": "8A4zgE8edWnb",
        "colab_type": "code",
        "colab": {}
      },
      "source": [
        "# make predictions\n",
        "# Get predictions\n",
        "predictions_1 = my_model_1.predict(X_valid) "
      ],
      "execution_count": 101,
      "outputs": []
    },
    {
      "cell_type": "code",
      "metadata": {
        "id": "xrWrJiR4QGds",
        "colab_type": "code",
        "colab": {
          "base_uri": "https://localhost:8080/",
          "height": 34
        },
        "outputId": "539f3f03-87e0-4881-f8fe-d0b1f3d58e78"
      },
      "source": [
        "# Calculate MAE\n",
        "mae_1 = mean_absolute_error(y_valid, predictions_1) \n",
        "\n",
        "print(\"Mean Absolute Error:\" , mae_1)"
      ],
      "execution_count": 102,
      "outputs": [
        {
          "output_type": "stream",
          "text": [
            "Mean Absolute Error: 2190489.554219745\n"
          ],
          "name": "stdout"
        }
      ]
    },
    {
      "cell_type": "code",
      "metadata": {
        "id": "yM7rj-9hnd9i",
        "colab_type": "code",
        "colab": {
          "base_uri": "https://localhost:8080/",
          "height": 403
        },
        "outputId": "8fda2d62-16a0-4986-a0d2-d8d62ecca112"
      },
      "source": [
        "# Let's try tune the model somewhat\n",
        "\n",
        "# Define the model\n",
        "my_model_2 = XGBRegressor(n_estimators=2000, learning_rate = 0.05, n_jobs = 10) \n",
        "\n",
        "# Fit the model\n",
        "my_model_2.fit(imputed_X_train, y_train,\n",
        "              eval_set = [(imputed_X_valid, y_valid)],\n",
        "              verbose=100) \n",
        "\n",
        "# Get predictions\n",
        "predictions_2 = my_model_2.predict(X_valid) \n",
        "\n",
        "# Calculate MAE\n",
        "mae_2 = mean_absolute_error(predictions_2, y_valid) \n",
        "\n",
        "# Uncomment to print MAE\n",
        "print(\"Mean Absolute Error:\" , mae_2)"
      ],
      "execution_count": 104,
      "outputs": [
        {
          "output_type": "stream",
          "text": [
            "[05:37:41] WARNING: /workspace/src/objective/regression_obj.cu:152: reg:linear is now deprecated in favor of reg:squarederror.\n",
            "[0]\tvalidation_0-rmse:9.71306e+06\n",
            "[100]\tvalidation_0-rmse:5.12617e+06\n",
            "[200]\tvalidation_0-rmse:4.86178e+06\n",
            "[300]\tvalidation_0-rmse:4.7489e+06\n",
            "[400]\tvalidation_0-rmse:4.69211e+06\n",
            "[500]\tvalidation_0-rmse:4.65796e+06\n",
            "[600]\tvalidation_0-rmse:4.60752e+06\n",
            "[700]\tvalidation_0-rmse:4.57706e+06\n",
            "[800]\tvalidation_0-rmse:4.53435e+06\n",
            "[900]\tvalidation_0-rmse:4.51745e+06\n",
            "[1000]\tvalidation_0-rmse:4.51073e+06\n",
            "[1100]\tvalidation_0-rmse:4.50705e+06\n",
            "[1200]\tvalidation_0-rmse:4.5015e+06\n",
            "[1300]\tvalidation_0-rmse:4.4892e+06\n",
            "[1400]\tvalidation_0-rmse:4.49085e+06\n",
            "[1500]\tvalidation_0-rmse:4.49244e+06\n",
            "[1600]\tvalidation_0-rmse:4.48535e+06\n",
            "[1700]\tvalidation_0-rmse:4.48461e+06\n",
            "[1800]\tvalidation_0-rmse:4.48135e+06\n",
            "[1900]\tvalidation_0-rmse:4.49521e+06\n",
            "[1999]\tvalidation_0-rmse:4.49361e+06\n",
            "Mean Absolute Error: 1825659.825347084\n"
          ],
          "name": "stdout"
        }
      ]
    },
    {
      "cell_type": "code",
      "metadata": {
        "id": "pHqw0OAuxGCs",
        "colab_type": "code",
        "colab": {}
      },
      "source": [
        ""
      ],
      "execution_count": null,
      "outputs": []
    }
  ]
}